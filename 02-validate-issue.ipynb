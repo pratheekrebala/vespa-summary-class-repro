{
 "cells": [
  {
   "cell_type": "code",
   "execution_count": 1,
   "metadata": {},
   "outputs": [],
   "source": [
    "from vespa.application import Vespa"
   ]
  },
  {
   "cell_type": "code",
   "execution_count": 2,
   "metadata": {},
   "outputs": [],
   "source": [
    "application = Vespa(\n",
    "    url = \"http://localhost:9090\"\n",
    ")"
   ]
  },
  {
   "cell_type": "code",
   "execution_count": 65,
   "metadata": {},
   "outputs": [],
   "source": [
    "yql = f\"\"\"\n",
    "    select *\n",
    "    from record\n",
    "    where userInput(@terms) |\n",
    "    all(\n",
    "\t\t\tall(\n",
    "\t\t\t\t\tgroup(collection_id)\n",
    "\t\t\t\t\tmax(10)\n",
    "\t\t\t\t\toutput(count() as(collection_count))\n",
    "\t\t\t\t\teach(\n",
    "\t\t\t\t\t\t\toutput(count() as(hit_count))\n",
    "\t\t\t\t\t\t\tmax(1) each(\n",
    "\t\t\t\t\t\t\t\t\toutput(summary(%s))\n",
    "\t\t\t\t\t\t\t)\n",
    "\t\t\t\t\t)\n",
    "\t\t\t)\n",
    "    )\n",
    "\"\"\""
   ]
  },
  {
   "cell_type": "code",
   "execution_count": 83,
   "metadata": {},
   "outputs": [
    {
     "data": {
      "text/plain": [
       "True"
      ]
     },
     "execution_count": 83,
     "metadata": {},
     "output_type": "execute_result"
    }
   ],
   "source": [
    "group_summary_class = \"basic\"\n",
    "\n",
    "response = application.query(\n",
    "    terms=\"Haskell\",\n",
    "    yql=yql % group_summary_class,\n",
    "    hits=10,\n",
    "    summary=\"basic\"\n",
    ")\n",
    "\n",
    "response.is_successful()"
   ]
  },
  {
   "cell_type": "code",
   "execution_count": 84,
   "metadata": {},
   "outputs": [
    {
     "data": {
      "text/plain": [
       "{'id': 'hitlist:hits',\n",
       " 'relevance': 1.0,\n",
       " 'label': 'hits',\n",
       " 'children': [{'id': 'index:summaryissue/0/392d11056dec7dfbfbb81777',\n",
       "   'relevance': 0.17875613901810777,\n",
       "   'source': 'summaryissue',\n",
       "   'fields': {'sddocname': 'record',\n",
       "    'contents': '<mark>Haskell</mark> is a standardized, general-purpose purely functional programming language, with non-strict semantics and strong static typing. Initially composing light-hearted and irreverent works, he also wrote serious, sombre and religious pieces beginning in the 1930s. Erlang is a general-purpose, concurrent, functional programming language. In 1989 the building was heavily damaged by fire, but it has since been restored. The arguments can be primitive data types or compound data types. <mark>Haskell</mark> features a type system with type inference and lazy evaluation. Where are my pants? Its main implementation is the Glasgow <mark>Haskell</mark> Compiler. Its main implementation is the Glasgow <mark>Haskell</mark> Compiler. <mark>Haskell</mark> features a type system with type inference and lazy evaluation.',\n",
       "    'snippets': '<mark>Haskell</mark> is a standardized, general-purpose purely<sep>can be primitive data types or compound data types. <mark>Haskell</mark> features a type system with type inference and lazy evaluation<sep>',\n",
       "    'record_id': 'fb198b41-f7e5-4ff8-9122-bde99aaa32ef',\n",
       "    'parent_id': '6757f69e-4607-4b9b-82d7-57f1bd785e5d',\n",
       "    'collection_id': '8e8df3f9-df34-48d0-8f43-6434774ddeb3',\n",
       "    'image_order': 60}}]}"
      ]
     },
     "execution_count": 84,
     "metadata": {},
     "output_type": "execute_result"
    }
   ],
   "source": [
    "group_resp = [c for c in response.hits if c['id'] == 'group:root:0'][0]\n",
    "group_aggs = group_resp['fields']\n",
    "\n",
    "sample_group_hit = group_resp['children'][0]['children'][0]['children'][0]\n",
    "sample_group_hit"
   ]
  },
  {
   "cell_type": "code",
   "execution_count": 82,
   "metadata": {},
   "outputs": [
    {
     "data": {
      "text/plain": [
       "{'id': 'index:summaryissue/0/392d11056dec7dfbfbb81777',\n",
       " 'relevance': 0.17875613901810777,\n",
       " 'source': 'summaryissue',\n",
       " 'fields': {'sddocname': 'record',\n",
       "  'record_id': 'fb198b41-f7e5-4ff8-9122-bde99aaa32ef',\n",
       "  'parent_id': '6757f69e-4607-4b9b-82d7-57f1bd785e5d',\n",
       "  'collection_id': '8e8df3f9-df34-48d0-8f43-6434774ddeb3',\n",
       "  'image_order': 60,\n",
       "  'contents': '\\ufff9Haskell\\ufffahaskel\\ufffb is a \\ufff9standardized\\ufffastandard\\ufffb, \\ufff9general\\ufffagener\\ufffb-\\ufff9purpose\\ufffapurpos\\ufffb \\ufff9purely\\ufffapure\\ufffb \\ufff9functional\\ufffafunction\\ufffb \\ufff9programming\\ufffaprogram\\ufffb \\ufff9language\\ufffalanguag\\ufffb, with non-strict \\ufff9semantics\\ufffasemant\\ufffb and strong static \\ufff9typing\\ufffatype\\ufffb. \\ufff9Initially\\ufffainiti\\ufffb \\ufff9composing\\ufffacompos\\ufffb light-\\ufff9hearted\\ufffaheart\\ufffb and \\ufff9irreverent\\ufffairrever\\ufffb \\ufff9works\\ufffawork\\ufffb, he also wrote \\ufff9serious\\ufffaseriou\\ufffb, \\ufff9sombre\\ufffasombr\\ufffb and \\ufff9religious\\ufffareligi\\ufffb \\ufff9pieces\\ufffapiec\\ufffb \\ufff9beginning\\ufffabegin\\ufffb in the \\ufff91930s\\ufffa1930\\ufffb. \\ufff9Erlang\\ufffaerlang\\ufffb is a \\ufff9general\\ufffagener\\ufffb-\\ufff9purpose\\ufffapurpos\\ufffb, \\ufff9concurrent\\ufffaconcurr\\ufffb, \\ufff9functional\\ufffafunction\\ufffb \\ufff9programming\\ufffaprogram\\ufffb \\ufff9language\\ufffalanguag\\ufffb. In 1989 the \\ufff9building\\ufffabuild\\ufffb was \\ufff9heavily\\ufffaheavili\\ufffb \\ufff9damaged\\ufffadamag\\ufffb by fire, but it \\ufff9has\\ufffaha\\ufffb \\ufff9since\\ufffasinc\\ufffb been \\ufff9restored\\ufffarestor\\ufffb. The \\ufff9arguments\\ufffaargument\\ufffb can be \\ufff9primitive\\ufffaprimit\\ufffb data \\ufff9types\\ufffatype\\ufffb or compound data \\ufff9types\\ufffatype\\ufffb. \\ufff9Haskell\\ufffahaskel\\ufffb \\ufff9features\\ufffafeatur\\ufffb a type system with type \\ufff9inference\\ufffainfer\\ufffb and \\ufff9lazy\\ufffalazi\\ufffb \\ufff9evaluation\\ufffaevalu\\ufffb. \\ufff9Where\\ufffawhere\\ufffb are my \\ufff9pants\\ufffapant\\ufffb? \\ufff9Its\\ufffait\\ufffb main \\ufff9implementation\\ufffaimplement\\ufffb is the \\ufff9Glasgow\\ufffaglasgow\\ufffb \\ufff9Haskell\\ufffahaskel\\ufffb \\ufff9Compiler\\ufffacompil\\ufffb. \\ufff9Its\\ufffait\\ufffb main \\ufff9implementation\\ufffaimplement\\ufffb is the \\ufff9Glasgow\\ufffaglasgow\\ufffb \\ufff9Haskell\\ufffahaskel\\ufffb \\ufff9Compiler\\ufffacompil\\ufffb. \\ufff9Haskell\\ufffahaskel\\ufffb \\ufff9features\\ufffafeatur\\ufffb a type system with type \\ufff9inference\\ufffainfer\\ufffb and \\ufff9lazy\\ufffalazi\\ufffb \\ufff9evaluation\\ufffaevalu\\ufffb.',\n",
       "  'snippets': '\\ufff9Haskell\\ufffahaskel\\ufffb is a \\ufff9standardized\\ufffastandard\\ufffb, \\ufff9general\\ufffagener\\ufffb-\\ufff9purpose\\ufffapurpos\\ufffb \\ufff9purely\\ufffapure\\ufffb \\ufff9functional\\ufffafunction\\ufffb \\ufff9programming\\ufffaprogram\\ufffb \\ufff9language\\ufffalanguag\\ufffb, with non-strict \\ufff9semantics\\ufffasemant\\ufffb and\\x1e'}}"
      ]
     },
     "execution_count": 82,
     "metadata": {},
     "output_type": "execute_result"
    }
   ],
   "source": [
    "regular_hits = [c for c in response.hits if c['id'] != 'group:root:0']\n",
    "sample_regular_hit = regular_hits[0]\n",
    "\n",
    "sample_regular_hit"
   ]
  }
 ],
 "metadata": {
  "kernelspec": {
   "display_name": "freedmen",
   "language": "python",
   "name": "python3"
  },
  "language_info": {
   "codemirror_mode": {
    "name": "ipython",
    "version": 3
   },
   "file_extension": ".py",
   "mimetype": "text/x-python",
   "name": "python",
   "nbconvert_exporter": "python",
   "pygments_lexer": "ipython3",
   "version": "3.11.9"
  }
 },
 "nbformat": 4,
 "nbformat_minor": 2
}
