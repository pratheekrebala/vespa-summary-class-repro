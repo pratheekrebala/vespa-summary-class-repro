{
 "cells": [
  {
   "cell_type": "code",
   "execution_count": null,
   "metadata": {},
   "outputs": [],
   "source": [
    "from mimesis import Field, Schema\n",
    "from mimesis.locales import Locale"
   ]
  },
  {
   "cell_type": "code",
   "execution_count": null,
   "metadata": {},
   "outputs": [],
   "source": [
    "from vespa.application import Vespa"
   ]
  },
  {
   "cell_type": "code",
   "execution_count": null,
   "metadata": {},
   "outputs": [],
   "source": [
    "app = Vespa(\n",
    "    url = \"http://localhost:9090\"\n",
    ")"
   ]
  },
  {
   "cell_type": "code",
   "execution_count": null,
   "metadata": {},
   "outputs": [],
   "source": [
    "field = Field(Locale.EN, seed=0xff)\n",
    "\n",
    "def vespa_sample_schema():\n",
    "    parent_id = field('uuid')\n",
    "    record_id = field('uuid')\n",
    "\n",
    "    return {\n",
    "        \"id\": record_id,\n",
    "        \"fields\": {\n",
    "            \"record_id\": record_id,\n",
    "            \"parent_id\": parent_id,\n",
    "            \"collection_id\": field(\"uuid\"),\n",
    "            \"image_order\": field(\"increment\"),\n",
    "            \"contents\": field(\"text\", quantity=10)\n",
    "        }\n",
    "    }"
   ]
  },
  {
   "cell_type": "code",
   "execution_count": null,
   "metadata": {},
   "outputs": [],
   "source": [
    "sample_schema = Schema(schema=vespa_sample_schema, iterations=100)\n",
    "sample_data = sample_schema.create()"
   ]
  },
  {
   "cell_type": "code",
   "execution_count": null,
   "metadata": {},
   "outputs": [],
   "source": [
    "statuses = []\n",
    "app.feed_iterable(sample_data, schema=\"record\", namespace=\"summaryissue\", callback=lambda x, y: statuses.append((x, y)))"
   ]
  },
  {
   "cell_type": "code",
   "execution_count": null,
   "metadata": {},
   "outputs": [],
   "source": [
    "statuses[0][0].json"
   ]
  },
  {
   "cell_type": "code",
   "execution_count": null,
   "metadata": {},
   "outputs": [],
   "source": [
    "sample_data"
   ]
  }
 ],
 "metadata": {
  "kernelspec": {
   "display_name": "freedmen",
   "language": "python",
   "name": "python3"
  },
  "language_info": {
   "codemirror_mode": {
    "name": "ipython",
    "version": 3
   },
   "file_extension": ".py",
   "mimetype": "text/x-python",
   "name": "python",
   "nbconvert_exporter": "python",
   "pygments_lexer": "ipython3",
   "version": "3.11.9"
  }
 },
 "nbformat": 4,
 "nbformat_minor": 2
}
